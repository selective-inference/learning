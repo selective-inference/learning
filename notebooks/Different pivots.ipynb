{
 "cells": [
  {
   "cell_type": "markdown",
   "metadata": {},
   "source": [
    "People always ask: \"can you randomize several times and use the proportion of selection, instead of\n",
    "just one randomization\"?\n",
    "\n",
    "Let's try to figure this out."
   ]
  },
  {
   "cell_type": "code",
   "execution_count": 15,
   "metadata": {},
   "outputs": [
    {
     "name": "stdout",
     "output_type": "stream",
     "text": [
      "The rpy2.ipython extension is already loaded. To reload it, use:\n",
      "  %reload_ext rpy2.ipython\n",
      "nothere\n",
      "nothere2\n",
      "here\n",
      "here2\n"
     ]
    },
    {
     "name": "stderr",
     "output_type": "stream",
     "text": [
      "/Users/jonathantaylor/git-repos/selection/selection/distributions/discrete_family.py:86: RuntimeWarning: divide by zero encountered in log\n",
      "  self._lw = np.log(xw[:,1])\n"
     ]
    },
    {
     "data": {
      "image/png": "[encoded data removed]",
      "text/plain": [
       "<matplotlib.figure.Figure at 0x11e8c9da0>"
      ]
     },
     "metadata": {},
     "output_type": "display_data"
    }
   ],
   "source": [
    "import numpy as np\n",
    "import regreg.api as rr\n",
    "import seaborn as sns\n",
    "%matplotlib inline\n",
    "%load_ext rpy2.ipython\n",
    "\n",
    "%R library(splines)\n",
    "import matplotlib.pyplot as plt\n",
    "import scipy.stats\n",
    "import statsmodels.api as sm\n",
    "\n",
    "from selection.distributions.discrete_family import discrete_family\n",
    "\n",
    "ntries, sigma, q = 21, 1, 0.3\n",
    "\n",
    "def interval_event(Z, a=-np.inf, b=np.inf):\n",
    "    return (Z > a) * (Z < b)\n",
    "\n",
    "def algorithm(Z, ntries=ntries, q=q):\n",
    "    \n",
    "    proportion = 0\n",
    "    for _ in range(ntries):\n",
    "        proportion += (interval_event(Z + 0.5 * sigma * np.random.standard_normal(), 0, np.inf)) > 0\n",
    "\n",
    "    proportion /= ntries\n",
    "    return proportion > q\n",
    "\n",
    "Z = np.linspace(-8, 8, 1001)\n",
    "def fit_algorithm(algorithm, B=7000, ntries=ntries, q=q, Zval=Z, link='logit'):\n",
    "    \n",
    "    Z = np.random.standard_normal(B) * 2\n",
    "    Z = np.hstack([Z, \n",
    "                   np.random.standard_normal(B), \n",
    "                   np.random.standard_normal(B) * 3, \n",
    "                   np.random.standard_normal(B) * 0.5])\n",
    "\n",
    "    Y = np.array([algorithm(z, ntries=ntries, q=q) for z in Z])\n",
    "\n",
    "    %R -i Y,Z,Zval \n",
    "    %R Z = as.numeric(Z*1)\n",
    "    if link == 'probit':\n",
    "        print('here')\n",
    "        %R M2 = glm(Y ~ Z, family=binomial(link=probit))\n",
    "    else:\n",
    "        print('nothere')\n",
    "        %R M2 = glm(Y ~ Z, family=binomial(link=logit))\n",
    "\n",
    "    %R W = predict(M2, newdata=data.frame(Z=Zval), type='link')\n",
    "    W = %R W\n",
    "    if link == 'probit':\n",
    "        print('here2')\n",
    "        return scipy.stats.norm.cdf(W) \n",
    "    else:\n",
    "        print('nothere2')\n",
    "        return np.exp(W) / (1 + np.exp(W))\n",
    "\n",
    "def simulate(ntries=ntries, sigma=sigma, truth=0):\n",
    "               \n",
    "    while True:\n",
    "        Z = np.random.standard_normal() + truth\n",
    "        if algorithm(Z, ntries, q=q):\n",
    "            return Z\n",
    "\n",
    "Z = np.linspace(-8, 8, 1001)\n",
    "W1 = fit_algorithm(algorithm, ntries=ntries, q=q, Zval=Z, link='logit')\n",
    "W2 = fit_algorithm(algorithm, ntries=ntries, q=q, Zval=Z, link='probit')\n",
    "plt.plot(Z, np.log(W1))\n",
    "plt.gca().set_ylim([-20, 0])\n",
    "selective_law1 = discrete_family(Z, W1 * scipy.stats.norm.pdf(Z))\n",
    "selective_law2 = discrete_family(Z, W2 * scipy.stats.norm.pdf(Z))\n",
    "\n",
    "def pivot1(z, truth=0):\n",
    "    return 1 - selective_law1.cdf(truth, z)\n",
    "\n",
    "def pivot2(z, truth=0):\n",
    "    return 1 - selective_law2.cdf(truth, z)\n"
   ]
  },
  {
   "cell_type": "code",
   "execution_count": 17,
   "metadata": {},
   "outputs": [
    {
     "data": {
      "text/plain": [
       "<matplotlib.collections.PathCollection at 0x11f89ab70>"
      ]
     },
     "execution_count": 17,
     "metadata": {},
     "output_type": "execute_result"
    },
    {
     "data": {
      "image/png": "[encoded data removed]",
      "text/plain": [
       "<matplotlib.figure.Figure at 0x11e8b8cc0>"
      ]
     },
     "metadata": {},
     "output_type": "display_data"
    },
    {
     "data": {
      "image/png": "[encoded data removed]",
      "text/plain": [
       "<matplotlib.figure.Figure at 0x11e096ac8>"
      ]
     },
     "metadata": {},
     "output_type": "display_data"
    }
   ],
   "source": [
    "P0 = []\n",
    "\n",
    "for _ in range(1000):\n",
    "    Zobs = simulate()\n",
    "    P0.append((pivot1(Zobs),\n",
    "              1 - scipy.stats.norm.cdf(simulate()),\n",
    "              pivot2(Zobs)))\n",
    "P0 = np.array(P0)\n",
    "U = np.linspace(0, 1, 101)\n",
    "plt.figure()\n",
    "plt.scatter(P0[:,0], P0[:,2])\n",
    "plt.figure()\n",
    "plt.scatter(W1, W2)\n"
   ]
  },
  {
   "cell_type": "code",
   "execution_count": null,
   "metadata": {
    "collapsed": true
   },
   "outputs": [],
   "source": []
  }
 ],
 "metadata": {
  "kernelspec": {
   "display_name": "Python (py36)",
   "language": "python",
   "name": "py36"
  },
  "language_info": {
   "codemirror_mode": {
    "name": "ipython",
    "version": 3
   },
   "file_extension": ".py",
   "mimetype": "text/x-python",
   "name": "python",
   "nbconvert_exporter": "python",
   "pygments_lexer": "ipython3",
   "version": "3.6.2"
  }
 },
 "nbformat": 4,
 "nbformat_minor": 2
}
